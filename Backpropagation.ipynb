{
 "cells": [
  {
   "cell_type": "code",
   "execution_count": 66,
   "metadata": {},
   "outputs": [],
   "source": [
    "import pandas as pd\n",
    "import numpy as np\n",
    "import random as rd\n",
    "import math"
   ]
  },
  {
   "cell_type": "code",
   "execution_count": 67,
   "metadata": {},
   "outputs": [],
   "source": [
    "df = pd.read_excel('Data_Tugas_Akhir.xlsx', sheetname='Data_latih')\n",
    "target = pd.read_excel('Data_Tugas_Akhir.xlsx', sheetname='Target')"
   ]
  },
  {
   "cell_type": "code",
   "execution_count": 68,
   "metadata": {},
   "outputs": [],
   "source": [
    "dfNormalisasi = (df - df.mean())/(df.max() - df.min())\n",
    "ValueTarget = np.array(target['target'])"
   ]
  },
  {
   "cell_type": "code",
   "execution_count": 69,
   "metadata": {},
   "outputs": [],
   "source": [
    "alfa = 0.1\n",
    "input_unit = 6\n",
    "output_unit = 3\n",
    "hidden_layer = 2"
   ]
  },
  {
   "cell_type": "code",
   "execution_count": 70,
   "metadata": {},
   "outputs": [],
   "source": [
    "target_data_latih = [\n",
    "    [1, 0, 0], #Kelas1\n",
    "    [0, 1, 0], #Kelas2\n",
    "    [0, 0, 1]  #Kelas3\n",
    "]"
   ]
  },
  {
   "cell_type": "code",
   "execution_count": 71,
   "metadata": {},
   "outputs": [],
   "source": [
    "#InputanAwalBebasUntukProsesNguyen\n",
    "VijLama = np.random.uniform(-0.5, 0.5, (hidden_layer, input_unit))"
   ]
  },
  {
   "cell_type": "code",
   "execution_count": 72,
   "metadata": {},
   "outputs": [],
   "source": [
    "#SetNilaiBeta\n",
    "valueB = 0.7*((hidden_layer)**1/input_unit)"
   ]
  },
  {
   "cell_type": "code",
   "execution_count": 73,
   "metadata": {},
   "outputs": [],
   "source": [
    "def valueMutlak(hidden_layer, dataInput):\n",
    "    MatriksKosong = []\n",
    "    for col in range (0, hidden_layer):\n",
    "        for value in dataInput:\n",
    "            valueV = math.sqrt(value[col]**2)\n",
    "        MatriksKosong.append(valueV)\n",
    "    return MatriksKosong"
   ]
  },
  {
   "cell_type": "code",
   "execution_count": 74,
   "metadata": {},
   "outputs": [],
   "source": [
    "MutlakV = valueMutlak(hidden_layer, VijLama)"
   ]
  },
  {
   "cell_type": "code",
   "execution_count": 75,
   "metadata": {},
   "outputs": [],
   "source": [
    "#Method Untuk Mendapatkan Weigth Berdasarkan Nguyen\n",
    "def NguyenWidrow(mutlak, valueB, dataInput):\n",
    "    bantu = []\n",
    "    ValueNewV = []\n",
    "    for baris in range(0, hidden_layer):\n",
    "        for kolom in range(0, input_unit):\n",
    "            valueV = valueB * dataInput[baris][kolom] / MutlakV[baris]\n",
    "            bantu.append(valueV)\n",
    "    ValueNewV.append(bantu)\n",
    "    ValueBaru = np.reshape(ValueNewV, (2,6))\n",
    "    return ValueBaru"
   ]
  },
  {
   "cell_type": "code",
   "execution_count": 76,
   "metadata": {},
   "outputs": [],
   "source": [
    "#Methode untuk mendapatkan Bias Hidden Layer\n",
    "def getValueBiasNew(valueB):\n",
    "    BiasBaru = np.random.uniform(-valueB, valueB, (2))\n",
    "    return BiasBaru"
   ]
  },
  {
   "cell_type": "markdown",
   "metadata": {},
   "source": [
    "FUNGSI AKTIVASI"
   ]
  },
  {
   "cell_type": "code",
   "execution_count": 77,
   "metadata": {},
   "outputs": [],
   "source": [
    "def arctangenFunction(x):\n",
    "    phi = 3.14159265358979323846\n",
    "    ValueTan = math.atan(x)\n",
    "    return (2 /phi) * ValueTan\n",
    "    "
   ]
  },
  {
   "cell_type": "code",
   "execution_count": 78,
   "metadata": {},
   "outputs": [],
   "source": [
    "def arctangenFunctionDerivative(x):\n",
    "    phi = 3.14159265358979323846\n",
    "    Value = 1 / 1 + math.pow(x, 2)\n",
    "    return (2 /phi) * Value"
   ]
  },
  {
   "cell_type": "code",
   "execution_count": 79,
   "metadata": {},
   "outputs": [],
   "source": [
    "def fungsi_aktivasi(x):\n",
    "#     nilai = x\n",
    "    Value = 1+ np.exp(-x)\n",
    "    return 1/Value"
   ]
  },
  {
   "cell_type": "code",
   "execution_count": 80,
   "metadata": {},
   "outputs": [],
   "source": [
    "def fungsi_aktivasi_turunan(x) :\n",
    "    pengkali = 1 - fungsi_aktivasi(x)\n",
    "    return fungsi_aktivasi(x)*pengkali"
   ]
  },
  {
   "cell_type": "markdown",
   "metadata": {},
   "source": [
    "INISIALISASI BOBOT"
   ]
  },
  {
   "cell_type": "code",
   "execution_count": 81,
   "metadata": {},
   "outputs": [],
   "source": [
    "#Bias Hidden Layer\n",
    "ValueV0jHidden = getValueBiasNew(valueB)"
   ]
  },
  {
   "cell_type": "code",
   "execution_count": 82,
   "metadata": {},
   "outputs": [],
   "source": [
    "#Bobot Hidden Layer\n",
    "ValueVijHidden = NguyenWidrow(MutlakV, valueB, VijLama) "
   ]
  },
  {
   "cell_type": "code",
   "execution_count": 83,
   "metadata": {},
   "outputs": [],
   "source": [
    "#BobotOutputLayer\n",
    "ValueWjkOutput = np.random.uniform(-0.5, 0.5, (output_unit, hidden_layer))"
   ]
  },
  {
   "cell_type": "code",
   "execution_count": 84,
   "metadata": {},
   "outputs": [],
   "source": [
    "#Bias Output Layer\n",
    "ValueW0kOutput = np.random.uniform(-0.5, 0.5, (3))"
   ]
  },
  {
   "cell_type": "markdown",
   "metadata": {},
   "source": [
    "PROSES"
   ]
  },
  {
   "cell_type": "code",
   "execution_count": 85,
   "metadata": {},
   "outputs": [],
   "source": [
    "def getFeedForward(dataLatih, Bobot_Hidden, Bias_Hidden, Bias_Output, Bobot_Output):\n",
    "    ValueZ = []\n",
    "    ValueY = []\n",
    "    ValueZin = []\n",
    "    ValueYin = []\n",
    "    Bantu = []\n",
    "    #Mencari Nilai Zin = Vij * x + V0j\n",
    "    #Sekaligus Mendapatkan Nilai Z yang telah dilakukan Aktivasi\n",
    "    for key, value in dataLatih.iterrows():\n",
    "        for baris in range(0, hidden_layer):\n",
    "            for kolom in range(0, input_unit):\n",
    "                NilaiZin = sum(Bobot_Hidden[baris][kolom] * value)\n",
    "            bantu = NilaiZin + Bias_Hidden[baris]\n",
    "            Bantu.append(bantu)\n",
    "            z = [fungsi_aktivasi(i) for i in Bantu]\n",
    "        ValueZin.append(Bantu)\n",
    "        Bantu = []\n",
    "        ValueZ.append(z)\n",
    "\n",
    "    #Mencari nilai Yin = Wjk * z + W0k\n",
    "    #Sekaligus Mendapatkan Nilai Y yang telah dilakukan Aktivasi\n",
    "    NilaiBantu = 0\n",
    "    for key, value in dataLatih.iterrows():\n",
    "        for baris in range (len(Bobot_Output)):\n",
    "            for kolom in range (len(Bobot_Output[0])):\n",
    "                NilaiYin = ValueZ[baris][kolom] * Bobot_Output[baris][kolom]\n",
    "                NilaiBantu += NilaiYin\n",
    "            NilaiYin = NilaiBantu + Bias_Output[baris]\n",
    "            Bantu.append(NilaiYin)\n",
    "            y = [fungsi_aktivasi(i) for i in Bantu]\n",
    "        ValueYin.append(Bantu)\n",
    "        Bantu = []\n",
    "        ValueY.append(y)\n",
    "        \n",
    "#     print(Val)\n",
    "#     print(ValueY)\n",
    "    return ValueZ, ValueY, ValueZin, ValueYin"
   ]
  },
  {
   "cell_type": "code",
   "execution_count": 86,
   "metadata": {},
   "outputs": [],
   "source": [
    "ValueZ, ValueY, ValueZin, ValueYin = getFeedForward(dfNormalisasi, ValueVijHidden, ValueV0jHidden, ValueW0kOutput, ValueWjkOutput)"
   ]
  },
  {
   "cell_type": "code",
   "execution_count": 87,
   "metadata": {},
   "outputs": [],
   "source": [
    "def BackPreprogration(dfNormalisasi,Yin, ValueY, target, alfa, ValueZ, ValueWjk, Zin):\n",
    "    ValueDk = []\n",
    "    ValueDw = []\n",
    "    ValueDw0 = []\n",
    "    ValueDin = []\n",
    "    ValueDz = []\n",
    "    ValueDv = []\n",
    "    ValueDv0 = []\n",
    "    ValueYinAkitvasiTurunan = []\n",
    "    ValueZinAkitvasiTurunan = []\n",
    "    Bantu = []\n",
    "    Bantu2 = []\n",
    "    \n",
    "    TargetComvert = [\n",
    "    [1, 0, 0], #Kelas1\n",
    "    [0, 1, 0], #Kelas2\n",
    "    [0, 0, 1]  #Kelas3\n",
    "]\n",
    "    for baris in range (len(Yin)):\n",
    "        YinNew = [fungsi_aktivasi_turunan(i) for i in Yin[baris]]\n",
    "        ValueYinAkitvasiTurunan.append(YinNew)\n",
    "        \n",
    "#     Hitung  δk\n",
    "    for baris in range (len(ValueY)):\n",
    "        for kolom in range(len(ValueY[0])):\n",
    "            if(target[baris] == 1):\n",
    "                NilaiDk = (TargetComvert[0][kolom] - ValueY[baris][kolom]) * ValueYinAkitvasiTurunan[baris][kolom]\n",
    "            elif(target[baris] == 2):\n",
    "                NilaiDk = (TargetComvert[1][kolom] - ValueY[baris][kolom]) * ValueYinAkitvasiTurunan[baris][kolom]\n",
    "            elif(target[baris] == 3):\n",
    "                NilaiDk = (TargetComvert[2][kolom] - ValueY[baris][kolom]) * ValueYinAkitvasiTurunan[baris][kolom]\n",
    "            Bantu.append(NilaiDk)\n",
    "        ValueDk.append(Bantu)\n",
    "        Bantu = []\n",
    "        \n",
    "    #Hitung ΔWjk\n",
    "    for baris in range (len(ValueDk)):\n",
    "        for kolom in range (len(ValueDk[0])):\n",
    "            for kolom1 in range(len(ValueZ[0])):\n",
    "                NilaiDw = ValueDk[baris][kolom] * ValueZ[baris][kolom1] * alfa\n",
    "                Bantu.append(NilaiDw)\n",
    "            Bantu2.append(Bantu)\n",
    "            Bantu = []\n",
    "        ValueDw.append(Bantu2)\n",
    "        Bantu2 = []\n",
    "    \n",
    "    #Hitung ΔW0k alfa * Dk\n",
    "    for baris in range(len(ValueDk)):\n",
    "        NilaiDw0 = [i * alfa for i in ValueDk[baris]]\n",
    "        ValueDw0.append(NilaiDw0)\n",
    "#     print(ValueDw0)\n",
    "    \n",
    "    transpose_wjk = np.transpose(ValueWjk)\n",
    "    \n",
    "#     Hitung δin = δk * Wjk\n",
    "    for i in range (len(dfNormalisasi)):\n",
    "        NilaiBantu = 0\n",
    "        for baris in range (len(transpose_wjk)):\n",
    "            for kolom in range (len(transpose_wjk[0])):\n",
    "                NilaiDin = ValueDk[i][kolom] * transpose_wjk[baris][kolom]\n",
    "                NilaiBantu += NilaiDin\n",
    "            Bantu.append(NilaiBantu)\n",
    "        ValueDin.append(Bantu)\n",
    "        Bantu = []\n",
    "        NilaiBantu = 0\n",
    "#     print(ValueDin)\n",
    "    #Hitung Dz\n",
    "    for baris in range(len(Zin)):\n",
    "        for kolom in range (len(Zin[0])):\n",
    "            ZinAktivasiTurunan = fungsi_aktivasi_turunan(Zin[baris][kolom])\n",
    "            Bantu.append(ZinAktivasiTurunan)\n",
    "        ValueZinAkitvasiTurunan.append(Bantu)\n",
    "        Bantu = []\n",
    "#     print(ValueZinAkitvasiTurunan)\n",
    "    for baris in range(len(ValueDin)):\n",
    "        for kolom in range(len(ValueDin[0])):\n",
    "            NilaiDz = ValueDin[baris][kolom] * ValueZinAkitvasiTurunan[baris][kolom]\n",
    "            Bantu.append(NilaiDz)\n",
    "        ValueDz.append(Bantu)\n",
    "        Bantu = []\n",
    "        \n",
    "    #Hitung ΔVij\n",
    "    Data = np.array(dfNormalisasi)\n",
    "    for baris in range (len(Data)):\n",
    "        for kolom in range(len(ValueDz[0])):\n",
    "            for kolom1 in range(0, input_unit):\n",
    "                NilaiVij = alfa * Data[baris][kolom1] * ValueDz[baris][kolom]\n",
    "                Bantu.append(NilaiVij)\n",
    "            Bantu2.append(Bantu)\n",
    "            Bantu = []\n",
    "        ValueDv.append(Bantu2)\n",
    "        Bantu2 = []\n",
    "        \n",
    "    #Hitung ΔV0j\n",
    "    for baris in range (len(ValueDz)):\n",
    "        for kolom in range(len(ValueDz[0])):\n",
    "            NilaiV0j = alfa * ValueDz[baris][kolom]\n",
    "            Bantu.append(NilaiV0j)\n",
    "        ValueDv0.append(Bantu)\n",
    "        Bantu = []\n",
    "        \n",
    "    return ValueDw, ValueDw0, ValueDv, ValueDv0"
   ]
  },
  {
   "cell_type": "code",
   "execution_count": 88,
   "metadata": {},
   "outputs": [],
   "source": [
    "ValueDw, ValueDw0, ValueDv, ValueDv0 = BackPreprogration(dfNormalisasi,ValueYin, ValueY, ValueTarget, alfa, ValueZ, ValueWjkOutput, ValueZin)"
   ]
  },
  {
   "cell_type": "code",
   "execution_count": 89,
   "metadata": {},
   "outputs": [],
   "source": [
    "def UpdateBobot(ValueWjk, ValueDw, ValueDw0, ValueW0, ValueDv0, ValueV0, ValueVij, ValueDv):\n",
    "    Miu = 0.175\n",
    "    \n",
    "    #UpdateBobotVij\n",
    "    for baris in range (len(ValueDv)):\n",
    "        for kolom1 in range (len(ValueDv[0])):\n",
    "            for kolom in range(len(ValueVij[0])):\n",
    "                NilaiVbaru = ValueDv[baris][kolom1][kolom] + (Miu * ValueVij[kolom1][kolom])\n",
    "                ValueVij[kolom1][kolom] = NilaiVbaru\n",
    "#     print(ValueVij)\n",
    "    #UpdateBobotW0j\n",
    "    for baris in range(len(ValueDv0)):\n",
    "        for kolom in range(len(ValueDv0[0])):    \n",
    "            NilaiW0Baru = (ValueDv0[baris][kolom] + ValueV0[kolom])\n",
    "            ValueV0[kolom] = NilaiW0Baru\n",
    "            \n",
    "    #UpdateBiasNewW0\n",
    "    for baris in range(len(ValueDw0)):\n",
    "        for kolom in range(len(ValueDw0[0])):\n",
    "            NilaiBiasHiddenBaru = ValueDw0[baris][kolom] + ValueW0[kolom]\n",
    "            ValueW0[kolom] = NilaiBiasHiddenBaru\n",
    "#     print(ValueW0)\n",
    "\n",
    "    #UpdateBiasNewWjk\n",
    "    for baris in range(len(ValueDw)):\n",
    "        for indeks2d in range(len(ValueDw[0])):\n",
    "            for kolom in range(len(ValueWjk[0])):\n",
    "                NilaiWBaru = ValueDw[baris][indeks2d][kolom] + (Miu*ValueWjk[indeks2d][kolom])\n",
    "                ValueWjk[indeks2d][kolom] = NilaiWBaru\n",
    "#     print(ValueWjk)\n",
    "    return ValueVij,ValueV0, ValueW0, ValueWjk"
   ]
  },
  {
   "cell_type": "code",
   "execution_count": 90,
   "metadata": {},
   "outputs": [],
   "source": [
    "def CheckError(ValueY, target):\n",
    "    TargetComvert = [\n",
    "        [1, 0, 0], #Kelas1\n",
    "        [0, 1, 0], #Kelas2\n",
    "        [0, 0, 1]  #Kelas3\n",
    "    ]\n",
    "    Error = []\n",
    "    Bantu = []\n",
    "    for baris in range (len(ValueY)):\n",
    "        for kolom in range(len(ValueY[0])):\n",
    "            if(target[baris] == 1):\n",
    "                NilaiError = math.pow((ValueY[baris][kolom] - TargetComvert[0][kolom]),2)\n",
    "            elif(target[baris] == 2):\n",
    "                NilaiError = math.pow((ValueY[baris][kolom] - TargetComvert[1][kolom]),2)\n",
    "            elif(target[baris] == 3):\n",
    "                NilaiError = math.pow((ValueY[baris][kolom] - TargetComvert[2][kolom]),2)\n",
    "            Bantu.append(NilaiError)\n",
    "        Error.append(Bantu)\n",
    "        Bantu = []\n",
    "    Jumlah_ErrorPerBaris = 0\n",
    "    JumlahKeseluruhan = []\n",
    "    for baris in range(len(Error)):\n",
    "        for kolom in range(len(Error[0])):\n",
    "            Jumlah_ErrorPerBaris += Error[baris][kolom]\n",
    "        JumlahKeseluruhan.append(Jumlah_ErrorPerBaris)\n",
    "    TotalError1Epoch = 0\n",
    "    for baris in range(len(JumlahKeseluruhan)):\n",
    "        TotalError1Epoch += JumlahKeseluruhan[baris]\n",
    "    NilaiRMSE = math.sqrt(TotalError1Epoch / len(JumlahKeseluruhan))\n",
    "    return NilaiRMSE\n",
    "#     print(NilaiRMSE)\n",
    "        "
   ]
  },
  {
   "cell_type": "code",
   "execution_count": 91,
   "metadata": {},
   "outputs": [],
   "source": [
    "def MencariBobotOptimal(dfNormalisasi, ValueVijHidden, ValueV0jHidden, ValueW0kOutput, ValueWjkOutput):\n",
    "    Epoch = 0\n",
    "    MaxEpoch = 1000\n",
    "    updateError = 0\n",
    "    NilaiRMSE = 0\n",
    "    while(Epoch < MaxEpoch or updateError < NilaiRMSE):\n",
    "        ValueZ, ValueY, ValueZin, ValueYin = getFeedForward(dfNormalisasi, ValueVijHidden, ValueV0jHidden, ValueW0kOutput, ValueWjkOutput)\n",
    "        ValueDw, ValueDw0, ValueDv, ValueDv0 = BackPreprogration(dfNormalisasi,ValueYin, ValueY, ValueTarget, alfa, ValueZ, ValueWjkOutput, ValueZin)\n",
    "        ValueVijHidden, ValueV0jHidden, ValueW0kOutput, ValueWjkOutput = UpdateBobot(ValueWjkOutput, ValueDw, ValueDw0, ValueW0kOutput, ValueDv0, ValueV0jHidden, ValueVijHidden, ValueDv)\n",
    "        NilaiRMSE = CheckError(ValueY, ValueTarget)\n",
    "        updateError = NilaiRMSE\n",
    "        Epoch += 1\n",
    "    print(Epoch)\n",
    "    \n",
    "    return ValueVijHidden, ValueV0jHidden, ValueW0kOutput, ValueWjkOutput"
   ]
  },
  {
   "cell_type": "code",
   "execution_count": 92,
   "metadata": {},
   "outputs": [
    {
     "name": "stdout",
     "output_type": "stream",
     "text": [
      "1000\n"
     ]
    }
   ],
   "source": [
    "NilaiVij, NilaiV0, NilaiW0, NilaiWjk = MencariBobotOptimal(dfNormalisasi, ValueVijHidden, ValueV0jHidden, ValueW0kOutput, ValueWjkOutput)"
   ]
  },
  {
   "cell_type": "code",
   "execution_count": 97,
   "metadata": {},
   "outputs": [],
   "source": [
    "DataUji = pd.read_excel('Data_Tugas_Akhir.xlsx', sheetname='Data_Uji')\n",
    "DataUjiNormalisasi = (DataUji - DataUji.mean())/(DataUji.max() - DataUji.min())"
   ]
  },
  {
   "cell_type": "code",
   "execution_count": 98,
   "metadata": {},
   "outputs": [],
   "source": [
    "ValueZDataUji, ValueYUji, ValueZinUji, ValueYinDataUji = getFeedForward(DataUjiNormalisasi, NilaiVij, NilaiV0, NilaiW0, NilaiWjk)"
   ]
  },
  {
   "cell_type": "code",
   "execution_count": 99,
   "metadata": {},
   "outputs": [],
   "source": [
    "def Pengujian(dataLatih,ValueVij, ValueV0, ValueW0, ValueWjk, ValueZin, ValueZ):\n",
    "    Bantu = []\n",
    "    ValueZin = []\n",
    "    ValueYin = []\n",
    "    ValueZ = []\n",
    "    ValueY = []\n",
    "    \n",
    "    #Perhitungan Input Pada Hidden Neuron\n",
    "    #Zin = Vij * x + V0j\n",
    "    for key, value in dataLatih.iterrows():\n",
    "        for baris in range(0, hidden_layer):\n",
    "            for kolom in range(0, input_unit):\n",
    "                NilaiZin = sum(ValueVij[baris][kolom] * value)\n",
    "            bantu = NilaiZin + ValueV0[baris]\n",
    "            Bantu.append(bantu)\n",
    "            z = [fungsi_aktivasi(i) for i in Bantu]\n",
    "        ValueZin.append(Bantu)\n",
    "        Bantu = []\n",
    "        ValueZ.append(z)\n",
    "    \n",
    "    NilaiBantu = 0\n",
    "    for key, value in dataLatih.iterrows():\n",
    "        for baris in range (len(ValueWjk)):\n",
    "            for kolom in range (len(ValueWjk[0])):\n",
    "                NilaiYin = ValueZ[baris][kolom] * ValueWjk[baris][kolom]\n",
    "                NilaiBantu += NilaiYin\n",
    "            NilaiYin = NilaiBantu + ValueW0[baris]\n",
    "            Bantu.append(NilaiYin)\n",
    "            y = [fungsi_aktivasi(i) for i in Bantu]\n",
    "        ValueYin.append(Bantu)\n",
    "        Bantu = []\n",
    "        ValueY.append(y)\n",
    "    print(ValueY)\n",
    "    \n",
    "    "
   ]
  },
  {
   "cell_type": "code",
   "execution_count": 100,
   "metadata": {},
   "outputs": [
    {
     "name": "stdout",
     "output_type": "stream",
     "text": [
      "[[0.3519865716476145, 0.3514746194595914, 0.30080345739038644], [0.35182715780509777, 0.3513153117768821, 0.3006564691842559], [0.35166777697980217, 0.35115603720337285, 0.30050952193388464], [0.3515084292003928, 0.3509967957676388, 0.30036261565803907], [0.3513491144955071, 0.3508375874982271, 0.3002157503754554], [0.3511898328937541, 0.3506784124236567, 0.300068926104839], [0.351030584423715, 0.35051927057241844, 0.2999221428648651], [0.35087136911394273, 0.35036016197297515, 0.29977540067417835], [0.3507121869929623, 0.35020108665376143, 0.2996286995513928], [0.3505530380892705, 0.35004204464318384, 0.2994820395150922], [0.35039392243133627, 0.34988303596962045, 0.2993354205838298], [0.35023484004759997, 0.34972406066142175, 0.2991888427761281], [0.35007579096647423, 0.3495651187469094, 0.2990423061104796], [0.34991677521634323, 0.3494062102543773, 0.2988958106053459], [0.34975779282556313, 0.34924733521209084, 0.29874935627915844], [0.3495988438224618, 0.3490884936482873, 0.2986029431503179], [0.34943992823533915, 0.3489296855911759, 0.2984565712371947], [0.3492810460924664, 0.34877091106893715, 0.2983102405581287], [0.349122197422087, 0.34861217010972356, 0.2981639511314294], [0.34896338225241597, 0.34845346274165945, 0.2980177029753756]]\n"
     ]
    }
   ],
   "source": [
    "y = Pengujian(dfNormalisasi, NilaiVij, NilaiV0, NilaiW0, NilaiWjk, ValueZin, ValueZ)"
   ]
  },
  {
   "cell_type": "code",
   "execution_count": 101,
   "metadata": {},
   "outputs": [],
   "source": [
    "def one_hot_encoding(y):\n",
    "    if(y.index(max(y)) == 0):\n",
    "        target = 1\n",
    "    elif(y.index(max(y)) == 1):\n",
    "        target = 2\n",
    "    elif(y.index(max(y)) == 2):\n",
    "        target = 3\n",
    "\n",
    "    return target"
   ]
  },
  {
   "cell_type": "code",
   "execution_count": 102,
   "metadata": {},
   "outputs": [
    {
     "data": {
      "text/plain": [
       "[3, 3, 3, 3, 3, 3, 3, 3, 3, 3, 3, 3, 3, 3, 3, 3, 3, 3, 3, 3]"
      ]
     },
     "execution_count": 102,
     "metadata": {},
     "output_type": "execute_result"
    }
   ],
   "source": [
    "y_class = []\n",
    "for x in ValueY:\n",
    "    y = one_hot_encoding(x)\n",
    "    y_class.append(y)\n",
    "    \n",
    "y_class"
   ]
  },
  {
   "cell_type": "code",
   "execution_count": 103,
   "metadata": {},
   "outputs": [
    {
     "data": {
      "text/plain": [
       "30.0"
      ]
     },
     "execution_count": 103,
     "metadata": {},
     "output_type": "execute_result"
    }
   ],
   "source": [
    "accu = 0\n",
    "for i in range(0, len(y_class)):\n",
    "    if(y_class[i] == ValueTarget[i]):\n",
    "        accu += 1\n",
    "\n",
    "acc = accu/len(y_class) * 100\n",
    "\n",
    "acc"
   ]
  },
  {
   "cell_type": "code",
   "execution_count": null,
   "metadata": {},
   "outputs": [],
   "source": []
  }
 ],
 "metadata": {
  "kernelspec": {
   "display_name": "Python 3",
   "language": "python",
   "name": "python3"
  },
  "language_info": {
   "codemirror_mode": {
    "name": "ipython",
    "version": 3
   },
   "file_extension": ".py",
   "mimetype": "text/x-python",
   "name": "python",
   "nbconvert_exporter": "python",
   "pygments_lexer": "ipython3",
   "version": "3.7.3"
  }
 },
 "nbformat": 4,
 "nbformat_minor": 2
}

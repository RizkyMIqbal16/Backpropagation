{
 "cells": [
  {
   "cell_type": "code",
   "execution_count": 49,
   "metadata": {},
   "outputs": [],
   "source": [
    "import pandas as pd\n",
    "import numpy as np\n",
    "import random as rd\n",
    "import math"
   ]
  },
  {
   "cell_type": "code",
   "execution_count": 50,
   "metadata": {},
   "outputs": [],
   "source": [
    "df = pd.read_excel('Data_Tugas_Akhir.xlsx', sheetname='Data_latih')\n",
    "target = pd.read_excel('Data_Tugas_Akhir.xlsx', sheetname='Target')"
   ]
  },
  {
   "cell_type": "code",
   "execution_count": 51,
   "metadata": {},
   "outputs": [],
   "source": [
    "dfNormalisasi = (df - df.mean())/(df.max() - df.min())\n",
    "ValueTarget = np.array(target['target'])"
   ]
  },
  {
   "cell_type": "code",
   "execution_count": 80,
   "metadata": {},
   "outputs": [],
   "source": [
    "alfa = 0.1\n",
    "input_unit = 6\n",
    "output_unit = 3\n",
    "hidden_layer = 2"
   ]
  },
  {
   "cell_type": "code",
   "execution_count": 81,
   "metadata": {},
   "outputs": [],
   "source": [
    "target_data_latih = [\n",
    "    [1, 0, 0], #Kelas1\n",
    "    [0, 1, 0], #Kelas2\n",
    "    [0, 0, 1]  #Kelas3\n",
    "]"
   ]
  },
  {
   "cell_type": "code",
   "execution_count": 82,
   "metadata": {},
   "outputs": [
    {
     "data": {
      "text/plain": [
       "array([[-0.35102179,  0.36296342, -0.46472295,  0.17309224,  0.45489152,\n",
       "        -0.4867072 ],\n",
       "       [ 0.17433989,  0.40309064,  0.48231603, -0.27012614,  0.39763465,\n",
       "         0.10746092]])"
      ]
     },
     "execution_count": 82,
     "metadata": {},
     "output_type": "execute_result"
    }
   ],
   "source": [
    "#InputanAwalBebasUntukProsesNguyen\n",
    "VijLama = np.random.uniform(-0.5, 0.5, (hidden_layer, input_unit))\n",
    "VijLama"
   ]
  },
  {
   "cell_type": "code",
   "execution_count": 83,
   "metadata": {},
   "outputs": [
    {
     "data": {
      "text/plain": [
       "0.2333333333333333"
      ]
     },
     "execution_count": 83,
     "metadata": {},
     "output_type": "execute_result"
    }
   ],
   "source": [
    "#SetNilaiBeta\n",
    "valueB = 0.7*((hidden_layer)**1/input_unit)\n",
    "valueB"
   ]
  },
  {
   "cell_type": "code",
   "execution_count": 84,
   "metadata": {},
   "outputs": [],
   "source": [
    "def valueMutlak(hidden_layer, dataInput):\n",
    "    MatriksKosong = []\n",
    "    for col in range (0, hidden_layer):\n",
    "        for value in dataInput:\n",
    "            valueV = math.sqrt(value[col]**2)\n",
    "        MatriksKosong.append(valueV)\n",
    "    return MatriksKosong"
   ]
  },
  {
   "cell_type": "code",
   "execution_count": 85,
   "metadata": {},
   "outputs": [
    {
     "data": {
      "text/plain": [
       "[0.17433988549678237, 0.4030906375606462]"
      ]
     },
     "execution_count": 85,
     "metadata": {},
     "output_type": "execute_result"
    }
   ],
   "source": [
    "MutlakV = valueMutlak(hidden_layer, VijLama)\n",
    "MutlakV"
   ]
  },
  {
   "cell_type": "code",
   "execution_count": 90,
   "metadata": {},
   "outputs": [],
   "source": [
    "#Method Untuk Mendapatkan Weigth Berdasarkan Nguyen\n",
    "def NguyenWidrow(mutlak, valueB, dataInput):\n",
    "    bantu = []\n",
    "    ValueNewV = []\n",
    "    for baris in range(0, hidden_layer):\n",
    "        for kolom in range(0, input_unit):\n",
    "            valueV = valueB * dataInput[baris][kolom] / MutlakV[baris]\n",
    "            bantu.append(valueV)\n",
    "    ValueNewV.append(bantu)\n",
    "    ValueBaru = np.reshape(ValueNewV, (2,6))\n",
    "    return ValueBaru"
   ]
  },
  {
   "cell_type": "code",
   "execution_count": 91,
   "metadata": {},
   "outputs": [],
   "source": [
    "#Methode untuk mendapatkan Bias Hidden Layer\n",
    "def getValueBiasNew(valueB):\n",
    "    BiasBaru = np.random.uniform(-valueB, valueB, (2))\n",
    "    return BiasBaru"
   ]
  },
  {
   "cell_type": "markdown",
   "metadata": {},
   "source": [
    "FUNGSI AKTIVASI"
   ]
  },
  {
   "cell_type": "code",
   "execution_count": 92,
   "metadata": {},
   "outputs": [],
   "source": [
    "def arctangenFunction(x):\n",
    "    phi = 3.14159265358979323846\n",
    "    ValueTan = math.atan(x)\n",
    "    return (2 /phi) * ValueTan\n",
    "    "
   ]
  },
  {
   "cell_type": "code",
   "execution_count": 93,
   "metadata": {},
   "outputs": [],
   "source": [
    "def arctangenFunctionDerivative(x):\n",
    "    phi = 3.14159265358979323846\n",
    "    Value = 1 / 1 + math.pow(x, 2)\n",
    "    return (2 /phi) * Value"
   ]
  },
  {
   "cell_type": "code",
   "execution_count": 94,
   "metadata": {},
   "outputs": [],
   "source": [
    "def fungsi_aktivasi(x):\n",
    "#     nilai = x\n",
    "    Value = 1+ np.exp(-x)\n",
    "    return 1/Value"
   ]
  },
  {
   "cell_type": "code",
   "execution_count": 95,
   "metadata": {},
   "outputs": [],
   "source": [
    "def fungsi_aktivasi_turunan(x) :\n",
    "    pengkali = 1 - fungsi_aktivasi(x)\n",
    "    return fungsi_aktivasi(x)*pengkali"
   ]
  },
  {
   "cell_type": "markdown",
   "metadata": {},
   "source": [
    "INISIALISASI BOBOT"
   ]
  },
  {
   "cell_type": "code",
   "execution_count": 96,
   "metadata": {},
   "outputs": [],
   "source": [
    "#Bias Hidden Layer\n",
    "ValueV0jHidden = getValueBiasNew(valueB)"
   ]
  },
  {
   "cell_type": "code",
   "execution_count": 97,
   "metadata": {},
   "outputs": [
    {
     "data": {
      "text/plain": [
       "array([-0.15832063,  0.1423964 ])"
      ]
     },
     "execution_count": 97,
     "metadata": {},
     "output_type": "execute_result"
    }
   ],
   "source": [
    "ValueV0jHidden"
   ]
  },
  {
   "cell_type": "code",
   "execution_count": 98,
   "metadata": {},
   "outputs": [
    {
     "data": {
      "text/plain": [
       "array([[-0.46980118,  0.48578365, -0.62197675,  0.23166351,  0.60881855,\n",
       "        -0.65140006],\n",
       "       [ 0.10091851,  0.23333333,  0.2791938 , -0.15636541,  0.23017508,\n",
       "         0.06220491]])"
      ]
     },
     "execution_count": 98,
     "metadata": {},
     "output_type": "execute_result"
    }
   ],
   "source": [
    "#Bobot Hidden Layer\n",
    "ValueVijHidden = NguyenWidrow(MutlakV, valueB, VijLama) \n",
    "ValueVijHidden"
   ]
  },
  {
   "cell_type": "code",
   "execution_count": 99,
   "metadata": {},
   "outputs": [
    {
     "data": {
      "text/plain": [
       "array([[ 0.28231144,  0.14885628],\n",
       "       [ 0.42347058, -0.20889018],\n",
       "       [ 0.33592296,  0.32002966]])"
      ]
     },
     "execution_count": 99,
     "metadata": {},
     "output_type": "execute_result"
    }
   ],
   "source": [
    "#BobotOutputLayer\n",
    "ValueWjkOutput = np.random.uniform(-0.5, 0.5, (output_unit, hidden_layer))\n",
    "ValueWjkOutput"
   ]
  },
  {
   "cell_type": "code",
   "execution_count": 100,
   "metadata": {},
   "outputs": [
    {
     "data": {
      "text/plain": [
       "array([-0.03702895, -0.3737435 ,  0.26536223])"
      ]
     },
     "execution_count": 100,
     "metadata": {},
     "output_type": "execute_result"
    }
   ],
   "source": [
    "#Bias Output Layer\n",
    "ValueW0kOutput = np.random.uniform(-0.5, 0.5, (3))\n",
    "ValueW0kOutput"
   ]
  },
  {
   "cell_type": "markdown",
   "metadata": {},
   "source": [
    "PROSES"
   ]
  },
  {
   "cell_type": "code",
   "execution_count": 78,
   "metadata": {},
   "outputs": [],
   "source": [
    "def getFeedForward(dataLatih, Bobot_Hidden, Bias_Hidden, Bias_Output, Bobot_Output):\n",
    "    ValueZ = []\n",
    "    ValueY = []\n",
    "    ValueZin = []\n",
    "    ValueYin = []\n",
    "    Bantu = []\n",
    "    #Mencari Nilai Zin = Vij * x + V0j\n",
    "    #Sekaligus Mendapatkan Nilai Z yang telah dilakukan Aktivasi\n",
    "    for key, value in dataLatih.iterrows():\n",
    "        for baris in range(0, hidden_layer):\n",
    "            for kolom in range(0, input_unit):\n",
    "                NilaiZin = sum(Bobot_Hidden[baris][kolom] * value)\n",
    "            bantu = NilaiZin + Bias_Hidden[baris]\n",
    "            Bantu.append(bantu)\n",
    "            z = [fungsi_aktivasi(i) for i in Bantu]\n",
    "        ValueZin.append(Bantu)\n",
    "        Bantu = []\n",
    "        ValueZ.append(z)\n",
    "\n",
    "    #Mencari nilai Yin = Wjk * z + W0k\n",
    "    #Sekaligus Mendapatkan Nilai Y yang telah dilakukan Aktivasi\n",
    "    NilaiBantu = 0\n",
    "    for key, value in dataLatih.iterrows():\n",
    "        for baris in range (len(Bobot_Output)):\n",
    "            for kolom in range (len(Bobot_Output[0])):\n",
    "                NilaiYin = ValueZ[baris][kolom] * Bobot_Output[baris][kolom]\n",
    "                NilaiBantu += NilaiYin\n",
    "            NilaiYin = NilaiBantu + Bias_Output[baris]\n",
    "            Bantu.append(NilaiYin)\n",
    "            y = [fungsi_aktivasi(i) for i in Bantu]\n",
    "        ValueYin.append(Bantu)\n",
    "        Bantu = []\n",
    "        ValueY.append(y)\n",
    "        \n",
    "#     print(Val)\n",
    "#     print(ValueY)\n",
    "    return ValueZ, ValueY, ValueZin, ValueYin"
   ]
  },
  {
   "cell_type": "code",
   "execution_count": 79,
   "metadata": {},
   "outputs": [
    {
     "ename": "IndexError",
     "evalue": "index 2 is out of bounds for axis 0 with size 2",
     "output_type": "error",
     "traceback": [
      "\u001b[1;31m---------------------------------------------------------------------------\u001b[0m",
      "\u001b[1;31mIndexError\u001b[0m                                Traceback (most recent call last)",
      "\u001b[1;32m<ipython-input-79-b401566f4446>\u001b[0m in \u001b[0;36m<module>\u001b[1;34m\u001b[0m\n\u001b[1;32m----> 1\u001b[1;33m \u001b[0mValueZ\u001b[0m\u001b[1;33m,\u001b[0m \u001b[0mValueY\u001b[0m\u001b[1;33m,\u001b[0m \u001b[0mValueZin\u001b[0m\u001b[1;33m,\u001b[0m \u001b[0mValueYin\u001b[0m \u001b[1;33m=\u001b[0m \u001b[0mgetFeedForward\u001b[0m\u001b[1;33m(\u001b[0m\u001b[0mdfNormalisasi\u001b[0m\u001b[1;33m,\u001b[0m \u001b[0mValueVijHidden\u001b[0m\u001b[1;33m,\u001b[0m \u001b[0mValueV0jHidden\u001b[0m\u001b[1;33m,\u001b[0m \u001b[0mValueW0kOutput\u001b[0m\u001b[1;33m,\u001b[0m \u001b[0mValueWjkOutput\u001b[0m\u001b[1;33m)\u001b[0m\u001b[1;33m\u001b[0m\u001b[1;33m\u001b[0m\u001b[0m\n\u001b[0m",
      "\u001b[1;32m<ipython-input-78-e8759b352d9c>\u001b[0m in \u001b[0;36mgetFeedForward\u001b[1;34m(dataLatih, Bobot_Hidden, Bias_Hidden, Bias_Output, Bobot_Output)\u001b[0m\n\u001b[0;32m     11\u001b[0m             \u001b[1;32mfor\u001b[0m \u001b[0mkolom\u001b[0m \u001b[1;32min\u001b[0m \u001b[0mrange\u001b[0m\u001b[1;33m(\u001b[0m\u001b[1;36m0\u001b[0m\u001b[1;33m,\u001b[0m \u001b[0minput_unit\u001b[0m\u001b[1;33m)\u001b[0m\u001b[1;33m:\u001b[0m\u001b[1;33m\u001b[0m\u001b[1;33m\u001b[0m\u001b[0m\n\u001b[0;32m     12\u001b[0m                 \u001b[0mNilaiZin\u001b[0m \u001b[1;33m=\u001b[0m \u001b[0msum\u001b[0m\u001b[1;33m(\u001b[0m\u001b[0mBobot_Hidden\u001b[0m\u001b[1;33m[\u001b[0m\u001b[0mbaris\u001b[0m\u001b[1;33m]\u001b[0m\u001b[1;33m[\u001b[0m\u001b[0mkolom\u001b[0m\u001b[1;33m]\u001b[0m \u001b[1;33m*\u001b[0m \u001b[0mvalue\u001b[0m\u001b[1;33m)\u001b[0m\u001b[1;33m\u001b[0m\u001b[1;33m\u001b[0m\u001b[0m\n\u001b[1;32m---> 13\u001b[1;33m             \u001b[0mbantu\u001b[0m \u001b[1;33m=\u001b[0m \u001b[0mNilaiZin\u001b[0m \u001b[1;33m+\u001b[0m \u001b[0mBias_Hidden\u001b[0m\u001b[1;33m[\u001b[0m\u001b[0mbaris\u001b[0m\u001b[1;33m]\u001b[0m\u001b[1;33m\u001b[0m\u001b[1;33m\u001b[0m\u001b[0m\n\u001b[0m\u001b[0;32m     14\u001b[0m             \u001b[0mBantu\u001b[0m\u001b[1;33m.\u001b[0m\u001b[0mappend\u001b[0m\u001b[1;33m(\u001b[0m\u001b[0mbantu\u001b[0m\u001b[1;33m)\u001b[0m\u001b[1;33m\u001b[0m\u001b[1;33m\u001b[0m\u001b[0m\n\u001b[0;32m     15\u001b[0m             \u001b[0mz\u001b[0m \u001b[1;33m=\u001b[0m \u001b[1;33m[\u001b[0m\u001b[0mfungsi_aktivasi\u001b[0m\u001b[1;33m(\u001b[0m\u001b[0mi\u001b[0m\u001b[1;33m)\u001b[0m \u001b[1;32mfor\u001b[0m \u001b[0mi\u001b[0m \u001b[1;32min\u001b[0m \u001b[0mBantu\u001b[0m\u001b[1;33m]\u001b[0m\u001b[1;33m\u001b[0m\u001b[1;33m\u001b[0m\u001b[0m\n",
      "\u001b[1;31mIndexError\u001b[0m: index 2 is out of bounds for axis 0 with size 2"
     ]
    }
   ],
   "source": [
    "ValueZ, ValueY, ValueZin, ValueYin = getFeedForward(dfNormalisasi, ValueVijHidden, ValueV0jHidden, ValueW0kOutput, ValueWjkOutput)"
   ]
  },
  {
   "cell_type": "code",
   "execution_count": 26,
   "metadata": {
    "scrolled": true
   },
   "outputs": [
    {
     "data": {
      "text/plain": [
       "[[0.21445739387360702, 0.5130614874353165, -0.0359744452113121],\n",
       " [0.5364100107817753, 0.8350141043434848, 0.28597817169685613],\n",
       " [0.8583626276899436, 1.1569667212516532, 0.6079307886050245],\n",
       " [1.180315244598112, 1.4789193381598214, 0.9298834055131929],\n",
       " [1.5022678615062803, 1.80087195506799, 1.2518360224213612],\n",
       " [1.8242204784144487, 2.122824571976158, 1.5737886393295297],\n",
       " [2.1461730953226175, 2.4447771888843266, 1.8957412562376978],\n",
       " [2.468125712230785, 2.7667298057924947, 2.217693873145866],\n",
       " [2.7900783291389537, 3.088682422700663, 2.539646490054034],\n",
       " [3.1120309460471214, 3.410635039608831, 2.861599106962202],\n",
       " [3.43398356295529, 3.732587656516999, 3.1835517238703703],\n",
       " [3.7559361798634576, 4.054540273425167, 3.5055043407785385],\n",
       " [4.077888796771626, 4.376492890333335, 3.8274569576867066],\n",
       " [4.399841413679794, 4.698445507241503, 4.149409574594874],\n",
       " [4.7217940305879615, 5.02039812414967, 4.471362191503042],\n",
       " [5.043746647496129, 5.342350741057838, 4.79331480841121],\n",
       " [5.365699264404297, 5.664303357966006, 5.115267425319377],\n",
       " [5.687651881312465, 5.986255974874173, 5.437220042227545],\n",
       " [6.009604498220632, 6.308208591782341, 5.759172659135713],\n",
       " [6.3315571151288, 6.630161208690509, 6.08112527604388]]"
      ]
     },
     "execution_count": 26,
     "metadata": {},
     "output_type": "execute_result"
    }
   ],
   "source": [
    "ValueYin"
   ]
  },
  {
   "cell_type": "code",
   "execution_count": 27,
   "metadata": {},
   "outputs": [],
   "source": [
    "def BackPreprogration(dfNormalisasi,Yin, ValueY, target, alfa, ValueZ, ValueWjk, Zin):\n",
    "    ValueDk = []\n",
    "    ValueDw = []\n",
    "    ValueDw0 = []\n",
    "    ValueDin = []\n",
    "    ValueDz = []\n",
    "    ValueDv = []\n",
    "    ValueDv0 = []\n",
    "    ValueYinAkitvasiTurunan = []\n",
    "    ValueZinAkitvasiTurunan = []\n",
    "    Bantu = []\n",
    "    Bantu2 = []\n",
    "    \n",
    "    TargetComvert = [\n",
    "    [1, 0, 0], #Kelas1\n",
    "    [0, 1, 0], #Kelas2\n",
    "    [0, 0, 1]  #Kelas3\n",
    "]\n",
    "    for baris in range (len(Yin)):\n",
    "        YinNew = [fungsi_aktivasi_turunan(i) for i in Yin[baris]]\n",
    "        ValueYinAkitvasiTurunan.append(YinNew)\n",
    "        \n",
    "#     Hitung  δk\n",
    "    for baris in range (len(ValueY)):\n",
    "        for kolom in range(len(ValueY[0])):\n",
    "            if(target[baris] == 1):\n",
    "                NilaiDk = (TargetComvert[0][kolom] - ValueY[baris][kolom]) * ValueYinAkitvasiTurunan[baris][kolom]\n",
    "            elif(target[baris] == 2):\n",
    "                NilaiDk = (TargetComvert[1][kolom] - ValueY[baris][kolom]) * ValueYinAkitvasiTurunan[baris][kolom]\n",
    "            elif(target[baris] == 3):\n",
    "                NilaiDk = (TargetComvert[2][kolom] - ValueY[baris][kolom]) * ValueYinAkitvasiTurunan[baris][kolom]\n",
    "            Bantu.append(NilaiDk)\n",
    "        ValueDk.append(Bantu)\n",
    "        Bantu = []\n",
    "        \n",
    "    #Hitung ΔWjk\n",
    "    for baris in range (len(ValueDk)):\n",
    "        for kolom in range (len(ValueDk[0])):\n",
    "            for kolom1 in range(len(ValueZ[0])):\n",
    "                NilaiDw = ValueDk[baris][kolom] * ValueZ[baris][kolom1] * alfa\n",
    "                Bantu.append(NilaiDw)\n",
    "            Bantu2.append(Bantu)\n",
    "            Bantu = []\n",
    "        ValueDw.append(Bantu2)\n",
    "        Bantu2 = []\n",
    "    \n",
    "    #Hitung ΔW0k alfa * Dk\n",
    "    for baris in range(len(ValueDk)):\n",
    "        NilaiDw0 = [i * alfa for i in ValueDk[baris]]\n",
    "        ValueDw0.append(NilaiDw0)\n",
    "#     print(ValueDw0)\n",
    "    \n",
    "    transpose_wjk = np.transpose(ValueWjk)\n",
    "    \n",
    "#     Hitung δin = δk * Wjk\n",
    "    for i in range (len(dfNormalisasi)):\n",
    "        NilaiBantu = 0\n",
    "        for baris in range (len(transpose_wjk)):\n",
    "            for kolom in range (len(transpose_wjk[0])):\n",
    "                NilaiDin = ValueDk[i][kolom] * transpose_wjk[baris][kolom]\n",
    "                NilaiBantu += NilaiDin\n",
    "            Bantu.append(NilaiBantu)\n",
    "        ValueDin.append(Bantu)\n",
    "        Bantu = []\n",
    "        NilaiBantu = 0\n",
    "#     print(ValueDin)\n",
    "    #Hitung Dz\n",
    "    for baris in range(len(Zin)):\n",
    "        for kolom in range (len(Zin[0])):\n",
    "            ZinAktivasiTurunan = fungsi_aktivasi_turunan(Zin[baris][kolom])\n",
    "            Bantu.append(ZinAktivasiTurunan)\n",
    "        ValueZinAkitvasiTurunan.append(Bantu)\n",
    "        Bantu = []\n",
    "#     print(ValueZinAkitvasiTurunan)\n",
    "    for baris in range(len(ValueDin)):\n",
    "        for kolom in range(len(ValueDin[0])):\n",
    "            NilaiDz = ValueDin[baris][kolom] * ValueZinAkitvasiTurunan[baris][kolom]\n",
    "            Bantu.append(NilaiDz)\n",
    "        ValueDz.append(Bantu)\n",
    "        Bantu = []\n",
    "        \n",
    "    #Hitung ΔVij\n",
    "    Data = np.array(dfNormalisasi)\n",
    "    for baris in range (len(Data)):\n",
    "        for kolom in range(len(ValueDz[0])):\n",
    "            for kolom1 in range(0, input_unit):\n",
    "                NilaiVij = alfa * Data[baris][kolom1] * ValueDz[baris][kolom]\n",
    "                Bantu.append(NilaiVij)\n",
    "            Bantu2.append(Bantu)\n",
    "            Bantu = []\n",
    "        ValueDv.append(Bantu2)\n",
    "        Bantu2 = []\n",
    "        \n",
    "    #Hitung ΔV0j\n",
    "    for baris in range (len(ValueDz)):\n",
    "        for kolom in range(len(ValueDz[0])):\n",
    "            NilaiV0j = alfa * ValueDz[baris][kolom]\n",
    "            Bantu.append(NilaiV0j)\n",
    "        ValueDv0.append(Bantu)\n",
    "        Bantu = []\n",
    "        \n",
    "    return ValueDw, ValueDw0, ValueDv, ValueDv0"
   ]
  },
  {
   "cell_type": "code",
   "execution_count": 28,
   "metadata": {},
   "outputs": [],
   "source": [
    "ValueDw, ValueDw0, ValueDv, ValueDv0 = BackPreprogration(dfNormalisasi,ValueYin, ValueY, ValueTarget, alfa, ValueZ, ValueWjkOutput, ValueZin)"
   ]
  },
  {
   "cell_type": "code",
   "execution_count": 29,
   "metadata": {},
   "outputs": [
    {
     "data": {
      "text/plain": [
       "[[[0.00010538919005369234,\n",
       "   -8.552855070107468e-05,\n",
       "   -0.0001019260815196272,\n",
       "   -6.638940868115233e-05,\n",
       "   9.478623018785533e-05,\n",
       "   -8.369877894893789e-05],\n",
       "  [0.0002177993751674183,\n",
       "   -0.0001767549868461702,\n",
       "   -0.0002106424468859497,\n",
       "   -0.0001372016591181949,\n",
       "   0.00019588708954753652,\n",
       "   -0.00017297354451692042]],\n",
       " [[9.17453462470978e-06,\n",
       "   5.798566279575452e-05,\n",
       "   -1.239500861892388e-05,\n",
       "   -9.854048507342852e-05,\n",
       "   3.112547740198988e-05,\n",
       "   5.6000586271827064e-05],\n",
       "  [2.1989867044199508e-05,\n",
       "   0.0001389822010060552,\n",
       "   -2.970881932340685e-05,\n",
       "   -0.0002361855128214926,\n",
       "   7.46027060504603e-05,\n",
       "   0.00013422429549702155]],\n",
       " [[-3.9023351215513555e-06,\n",
       "   9.50658126205433e-06,\n",
       "   3.309818844041433e-06,\n",
       "   -6.03985047194845e-06,\n",
       "   2.369040909582883e-06,\n",
       "   9.285929381693147e-06],\n",
       "  [-2.3585760486824164e-05,\n",
       "   5.745789167543519e-05,\n",
       "   2.000458496739876e-05,\n",
       "   -3.6504929015675086e-05,\n",
       "   1.4318511797801936e-05,\n",
       "   5.612426905229735e-05]],\n",
       " [[-2.2006672435484135e-05,\n",
       "   2.0143910482776812e-05,\n",
       "   2.2959206436993142e-05,\n",
       "   1.3692809658909276e-05,\n",
       "   -2.2235205677119697e-05,\n",
       "   1.9747025877572518e-05],\n",
       "  [-1.1956459437886306e-05,\n",
       "   1.0944401036268486e-05,\n",
       "   1.247398130247707e-05,\n",
       "   7.4394492741875925e-06,\n",
       "   -1.2080623981246272e-05,\n",
       "   1.0728769404655013e-05]],\n",
       " [[-4.557119973326434e-05,\n",
       "   3.827170213599957e-05,\n",
       "   3.8580893003964646e-05,\n",
       "   2.033677258723951e-05,\n",
       "   0.00011148513341008763,\n",
       "   3.668425989606021e-05],\n",
       "  [-6.13953589918488e-05,\n",
       "   5.1561181307975344e-05,\n",
       "   5.197773572056108e-05,\n",
       "   2.7398520579605584e-05,\n",
       "   0.00015019726994306614,\n",
       "   4.942251507205528e-05]],\n",
       " [[-7.554314695934496e-06,\n",
       "   -2.5544376837078758e-05,\n",
       "   1.7034758412338942e-05,\n",
       "   5.549540007975511e-05,\n",
       "   0.0001523951025393455,\n",
       "   -2.310530172928318e-05],\n",
       "  [-1.0035820349809131e-05,\n",
       "   -3.393541137791262e-05,\n",
       "   2.263048099129862e-05,\n",
       "   7.372500191724007e-05,\n",
       "   0.0002024551442235647,\n",
       "   -3.069512809785531e-05]],\n",
       " [[9.160463344821148e-06,\n",
       "   -3.254554849712293e-05,\n",
       "   -5.624515434954492e-07,\n",
       "   2.7538163316376556e-05,\n",
       "   -2.339605514215713e-05,\n",
       "   -3.0096588787142364e-05],\n",
       "  [1.2336222631038572e-05,\n",
       "   -4.382847425908346e-05,\n",
       "   -7.574428496189355e-07,\n",
       "   3.7085123397473014e-05,\n",
       "   -3.150702470578362e-05,\n",
       "   -4.053050656252108e-05]],\n",
       " [[-6.127312710427541e-05,\n",
       "   0.0001985131522928847,\n",
       "   0.00010387072112306437,\n",
       "   -7.627112791032079e-05,\n",
       "   -0.00012634242292531542,\n",
       "   0.00018915168971440823],\n",
       "  [-9.933178693714175e-05,\n",
       "   0.00032181589351918847,\n",
       "   0.00016838808181023247,\n",
       "   -0.000123645516151808,\n",
       "   -0.00020481766197083819,\n",
       "   0.00030663973310089037]],\n",
       " [[-3.214432328832113e-05,\n",
       "   3.6333015114870326e-05,\n",
       "   8.481991321954549e-05,\n",
       "   6.455739524526704e-05,\n",
       "   -9.389802860261587e-05,\n",
       "   3.983237586142464e-05],\n",
       "  [-5.1972225553153875e-05,\n",
       "   5.874466977073557e-05,\n",
       "   0.00013714022291602573,\n",
       "   0.00010437897468602648,\n",
       "   -0.00015181808239542906,\n",
       "   6.440257597023712e-05]],\n",
       " [[-6.175425573609874e-05,\n",
       "   0.00010109306277007419,\n",
       "   8.264461722232826e-05,\n",
       "   2.370414559186496e-05,\n",
       "   -8.346757981953526e-05,\n",
       "   9.748004240473128e-05],\n",
       "  [-0.0001003040209261343,\n",
       "   0.0001641998687006946,\n",
       "   0.00013423507929114357,\n",
       "   3.850133221009264e-05,\n",
       "   -0.00013557177190589114,\n",
       "   0.00015833143961816156]],\n",
       " [[-6.57968936645619e-05,\n",
       "   0.00011989184326555849,\n",
       "   7.605490416056302e-05,\n",
       "   -3.095429176612794e-05,\n",
       "   -6.930056985275598e-05,\n",
       "   0.00011135037471734326],\n",
       "  [-0.00010731702825736577,\n",
       "   0.0001955477776375247,\n",
       "   0.00012404820112816997,\n",
       "   -5.04875294126762e-05,\n",
       "   -0.00011303164631228468,\n",
       "   0.0001816163445485806]],\n",
       " [[1.3161899830271142e-05,\n",
       "   9.035585028743566e-06,\n",
       "   6.093586874815419e-07,\n",
       "   -3.351712804104378e-05,\n",
       "   -2.743608496658591e-05,\n",
       "   1.085282439034733e-05],\n",
       "  [2.159259261622027e-05,\n",
       "   1.4823217703432372e-05,\n",
       "   9.996758876467275e-07,\n",
       "   -5.498611148760294e-05,\n",
       "   -4.50099311882767e-05,\n",
       "   1.7804467350312713e-05]],\n",
       " [[-1.4774442631653247e-05,\n",
       "   1.1624230138047412e-05,\n",
       "   3.2364781794795314e-05,\n",
       "   4.39285394394112e-05,\n",
       "   -3.185029201981282e-05,\n",
       "   1.2727051612069184e-05],\n",
       "  [-2.3894258062896246e-05,\n",
       "   1.879951492084955e-05,\n",
       "   5.234258019976692e-05,\n",
       "   7.104429479069648e-05,\n",
       "   -5.151051148755605e-05,\n",
       "   2.0583074649940407e-05]],\n",
       " [[-1.803099285719141e-05,\n",
       "   1.4793738376118974e-05,\n",
       "   1.7942538559897357e-05,\n",
       "   2.1160040939088203e-05,\n",
       "   -2.380908646136861e-05,\n",
       "   1.5190277913685373e-05],\n",
       "  [-2.910140977975344e-05,\n",
       "   2.387659104896135e-05,\n",
       "   2.895864754959107e-05,\n",
       "   3.415158705912118e-05,\n",
       "   -3.8427056517718216e-05,\n",
       "   2.4516592388210466e-05]],\n",
       " [[8.903158501308737e-06,\n",
       "   -3.5787519522962364e-06,\n",
       "   -9.735130282066715e-06,\n",
       "   -8.564732942746253e-06,\n",
       "   -1.1027016471921335e-06,\n",
       "   -3.1431265405017465e-06],\n",
       "  [2.6141218816662546e-05,\n",
       "   -1.0507836950424077e-05,\n",
       "   -2.8584032382981255e-05,\n",
       "   -2.5147542631044527e-05,\n",
       "   -3.237723448875639e-06,\n",
       "   -9.228765123257964e-06]],\n",
       " [[7.899209013020535e-06,\n",
       "   -3.0262828539620716e-06,\n",
       "   -8.381029642091494e-06,\n",
       "   -8.86495694456467e-06,\n",
       "   -2.020437475442316e-07,\n",
       "   -2.712718117237723e-06],\n",
       "  [2.375210880307443e-05,\n",
       "   -9.099721186982455e-06,\n",
       "   -2.520089386324884e-05,\n",
       "   -2.6656013473601565e-05,\n",
       "   -6.075247618769415e-07,\n",
       "   -8.156864284321997e-06]],\n",
       " [[5.283051240679116e-06,\n",
       "   -1.8790960709783735e-06,\n",
       "   -5.945068919929947e-06,\n",
       "   -6.11475964148675e-06,\n",
       "   -3.2206928199348993e-07,\n",
       "   -1.6505607395250021e-06],\n",
       "  [1.572804380784814e-05,\n",
       "   -5.594211370871364e-06,\n",
       "   -1.769892059599161e-05,\n",
       "   -1.8204102730490022e-05,\n",
       "   -9.588246537061133e-07,\n",
       "   -4.913844374416173e-06]],\n",
       " [[6.228829158504395e-06,\n",
       "   -6.901329331930453e-06,\n",
       "   -8.168261728039537e-06,\n",
       "   -6.01185071779663e-06,\n",
       "   8.458754496435492e-06,\n",
       "   -7.190277122212489e-06],\n",
       "  [2.3332788924144643e-05,\n",
       "   -2.5851930836485762e-05,\n",
       "   -3.0597777194980524e-05,\n",
       "   -2.252000179685411e-05,\n",
       "   3.168594421264853e-05,\n",
       "   -2.6934310466619583e-05]],\n",
       " [[-4.874794192274761e-06,\n",
       "   3.1988032475638662e-06,\n",
       "   1.6186643018466796e-06,\n",
       "   -1.0879307751659004e-06,\n",
       "   -2.575780165858473e-06,\n",
       "   3.0382966569742072e-06],\n",
       "  [-1.3379389742349745e-05,\n",
       "   8.779454818025842e-06,\n",
       "   4.442595872202214e-06,\n",
       "   -2.9859414119899393e-06,\n",
       "   -7.069501884663843e-06,\n",
       "   8.33892745481572e-06]],\n",
       " [[2.6146062149920393e-06,\n",
       "   -2.0622319932610037e-06,\n",
       "   -2.0489617532610296e-06,\n",
       "   -1.2384991745678514e-06,\n",
       "   2.6994815498853564e-08,\n",
       "   -2.001285331942565e-06],\n",
       "  [7.955372813981668e-06,\n",
       "   -6.274682681178346e-06,\n",
       "   -6.234305776264147e-06,\n",
       "   -3.7683390359132225e-06,\n",
       "   8.213620089581425e-08,\n",
       "   -6.0892423614179454e-06]]]"
      ]
     },
     "execution_count": 29,
     "metadata": {},
     "output_type": "execute_result"
    }
   ],
   "source": [
    "ValueDv"
   ]
  },
  {
   "cell_type": "code",
   "execution_count": 30,
   "metadata": {},
   "outputs": [
    {
     "data": {
      "text/plain": [
       "array([[ 0.24269534,  0.269996  ],\n",
       "       [-0.07274239,  0.07108115],\n",
       "       [ 0.16123288,  0.0049014 ]])"
      ]
     },
     "execution_count": 30,
     "metadata": {},
     "output_type": "execute_result"
    }
   ],
   "source": [
    "ValueWjkOutput"
   ]
  },
  {
   "cell_type": "code",
   "execution_count": 31,
   "metadata": {},
   "outputs": [],
   "source": [
    "def UpdateBobot(ValueWjk, ValueDw, ValueDw0, ValueW0, ValueDv0, ValueV0, ValueVij, ValueDv):\n",
    "    Miu = 0.175\n",
    "    \n",
    "    #UpdateBobotVij\n",
    "    for baris in range (len(ValueDv)):\n",
    "        for kolom1 in range (len(ValueDv[0])):\n",
    "            for kolom in range(len(ValueVij[0])):\n",
    "                NilaiVbaru = ValueDv[baris][kolom1][kolom] + (Miu * ValueVij[kolom1][kolom])\n",
    "                ValueVij[kolom1][kolom] = NilaiVbaru\n",
    "#     print(ValueVij)\n",
    "    #UpdateBobotW0j\n",
    "    for baris in range(len(ValueDv0)):\n",
    "        for kolom in range(len(ValueDv0[0])):    \n",
    "            NilaiW0Baru = (ValueDv0[baris][kolom] + ValueV0[kolom])\n",
    "            ValueV0[kolom] = NilaiW0Baru\n",
    "            \n",
    "    #UpdateBiasNewW0\n",
    "    for baris in range(len(ValueDw0)):\n",
    "        for kolom in range(len(ValueDw0[0])):\n",
    "            NilaiBiasHiddenBaru = ValueDw0[baris][kolom] + ValueW0[kolom]\n",
    "            ValueW0[kolom] = NilaiBiasHiddenBaru\n",
    "#     print(ValueW0)\n",
    "\n",
    "    #UpdateBiasNewWjk\n",
    "    for baris in range(len(ValueDw)):\n",
    "        for indeks2d in range(len(ValueDw[0])):\n",
    "            for kolom in range(len(ValueWjk[0])):\n",
    "                NilaiWBaru = ValueDw[baris][indeks2d][kolom] + (Miu*ValueWjk[indeks2d][kolom])\n",
    "                ValueWjk[indeks2d][kolom] = NilaiWBaru\n",
    "#     print(ValueWjk)\n",
    "    return ValueVij,ValueV0, ValueW0, ValueWjk"
   ]
  },
  {
   "cell_type": "code",
   "execution_count": 32,
   "metadata": {},
   "outputs": [],
   "source": [
    "def CheckError(ValueY, target):\n",
    "    TargetComvert = [\n",
    "        [1, 0, 0], #Kelas1\n",
    "        [0, 1, 0], #Kelas2\n",
    "        [0, 0, 1]  #Kelas3\n",
    "    ]\n",
    "    Error = []\n",
    "    Bantu = []\n",
    "    for baris in range (len(ValueY)):\n",
    "        for kolom in range(len(ValueY[0])):\n",
    "            if(target[baris] == 1):\n",
    "                NilaiError = math.pow((ValueY[baris][kolom] - TargetComvert[0][kolom]),2)\n",
    "            elif(target[baris] == 2):\n",
    "                NilaiError = math.pow((ValueY[baris][kolom] - TargetComvert[1][kolom]),2)\n",
    "            elif(target[baris] == 3):\n",
    "                NilaiError = math.pow((ValueY[baris][kolom] - TargetComvert[2][kolom]),2)\n",
    "            Bantu.append(NilaiError)\n",
    "        Error.append(Bantu)\n",
    "        Bantu = []\n",
    "    Jumlah_ErrorPerBaris = 0\n",
    "    JumlahKeseluruhan = []\n",
    "    for baris in range(len(Error)):\n",
    "        for kolom in range(len(Error[0])):\n",
    "            Jumlah_ErrorPerBaris += Error[baris][kolom]\n",
    "        JumlahKeseluruhan.append(Jumlah_ErrorPerBaris)\n",
    "    TotalError1Epoch = 0\n",
    "    for baris in range(len(JumlahKeseluruhan)):\n",
    "        TotalError1Epoch += JumlahKeseluruhan[baris]\n",
    "    NilaiRMSE = math.sqrt(TotalError1Epoch / len(JumlahKeseluruhan))\n",
    "    return NilaiRMSE\n",
    "#     print(NilaiRMSE)\n",
    "        "
   ]
  },
  {
   "cell_type": "code",
   "execution_count": 33,
   "metadata": {},
   "outputs": [],
   "source": [
    "def MencariBobotOptimal(dfNormalisasi, ValueVijHidden, ValueV0jHidden, ValueW0kOutput, ValueWjkOutput):\n",
    "    Epoch = 0\n",
    "    MaxEpoch = 1000\n",
    "    updateError = 0\n",
    "    NilaiRMSE = 0\n",
    "    while(Epoch < MaxEpoch or updateError < NilaiRMSE):\n",
    "        ValueZ, ValueY, ValueZin, ValueYin = getFeedForward(dfNormalisasi, ValueVijHidden, ValueV0jHidden, ValueW0kOutput, ValueWjkOutput)\n",
    "        ValueDw, ValueDw0, ValueDv, ValueDv0 = BackPreprogration(dfNormalisasi,ValueYin, ValueY, ValueTarget, alfa, ValueZ, ValueWjkOutput, ValueZin)\n",
    "        ValueVijHidden, ValueV0jHidden, ValueW0kOutput, ValueWjkOutput = UpdateBobot(ValueWjkOutput, ValueDw, ValueDw0, ValueW0kOutput, ValueDv0, ValueV0jHidden, ValueVijHidden, ValueDv)\n",
    "        NilaiRMSE = CheckError(ValueY, ValueTarget)\n",
    "        updateError = NilaiRMSE\n",
    "        Epoch += 1\n",
    "    print(Epoch)\n",
    "    \n",
    "    return ValueVijHidden, ValueV0jHidden, ValueW0kOutput, ValueWjkOutput"
   ]
  },
  {
   "cell_type": "code",
   "execution_count": 34,
   "metadata": {},
   "outputs": [
    {
     "name": "stdout",
     "output_type": "stream",
     "text": [
      "1000\n"
     ]
    }
   ],
   "source": [
    "NilaiVij, NilaiV0, NilaiW0, NilaiWjk = MencariBobotOptimal(dfNormalisasi, ValueVijHidden, ValueV0jHidden, ValueW0kOutput, ValueWjkOutput)"
   ]
  },
  {
   "cell_type": "code",
   "execution_count": 35,
   "metadata": {},
   "outputs": [
    {
     "data": {
      "text/plain": [
       "array([[-1.40488255e-05,  1.17704147e-05,  1.30529565e-05,\n",
       "         9.55965409e-06,  5.89357766e-07,  1.15316615e-05],\n",
       "       [-2.88410164e-05,  2.41636372e-05,  2.67965835e-05,\n",
       "         1.96251373e-05,  1.20989936e-06,  2.36734977e-05]])"
      ]
     },
     "execution_count": 35,
     "metadata": {},
     "output_type": "execute_result"
    }
   ],
   "source": [
    "NilaiVij"
   ]
  },
  {
   "cell_type": "code",
   "execution_count": 36,
   "metadata": {},
   "outputs": [
    {
     "data": {
      "text/plain": [
       "array([-0.18481678, -0.1089955 ])"
      ]
     },
     "execution_count": 36,
     "metadata": {},
     "output_type": "execute_result"
    }
   ],
   "source": [
    "NilaiV0"
   ]
  },
  {
   "cell_type": "code",
   "execution_count": 37,
   "metadata": {},
   "outputs": [
    {
     "data": {
      "text/plain": [
       "array([-0.60734144, -0.60516763, -0.84337272])"
      ]
     },
     "execution_count": 37,
     "metadata": {},
     "output_type": "execute_result"
    }
   ],
   "source": [
    "NilaiW0"
   ]
  },
  {
   "cell_type": "code",
   "execution_count": 38,
   "metadata": {},
   "outputs": [
    {
     "data": {
      "text/plain": [
       "array([[-0.00436519, -0.00454648],\n",
       "       [-0.00435672, -0.00453767],\n",
       "       [ 0.00808116,  0.00841679]])"
      ]
     },
     "execution_count": 38,
     "metadata": {},
     "output_type": "execute_result"
    }
   ],
   "source": [
    "NilaiWjk"
   ]
  },
  {
   "cell_type": "code",
   "execution_count": 39,
   "metadata": {},
   "outputs": [],
   "source": [
    "DataUji = pd.read_excel('Data_Tugas_Akhir.xlsx', sheetname='Data_Uji')\n",
    "DataUjiNormalisasi = (DataUji - DataUji.mean())/(DataUji.max() - DataUji.min())"
   ]
  },
  {
   "cell_type": "code",
   "execution_count": 40,
   "metadata": {},
   "outputs": [],
   "source": [
    "ValueZDataUji, ValueYUji, ValueZinUji, ValueYinDataUji = getFeedForward(DataUjiNormalisasi, NilaiVij, NilaiV0, NilaiW0, NilaiWjk)"
   ]
  },
  {
   "cell_type": "code",
   "execution_count": 41,
   "metadata": {},
   "outputs": [
    {
     "data": {
      "text/plain": [
       "[[0.3517234029936548, 0.35127911270277845, 0.3006974140186109],\n",
       " [0.3515851646437275, 0.3511409543894278, 0.3005699321784855],\n",
       " [0.35144695117107183, 0.3510028210133539, 0.30044248116473243],\n",
       " [0.35130876259437177, 0.35086471259318996, 0.30031506098959077],\n",
       " [0.35117059893229574, 0.35072662914755315, 0.3001876716652823],\n",
       " [0.3510324602034961, 0.35058857069504473, 0.3000603132040119],\n",
       " [0.35089434642660927, 0.35045053725424996, 0.2999329856179666],\n",
       " [0.350756257620256, 0.3503125288437384, 0.29980568891931675],\n",
       " [0.3506181938030408, 0.3501745454820635, 0.29967842312021514]]"
      ]
     },
     "execution_count": 41,
     "metadata": {},
     "output_type": "execute_result"
    }
   ],
   "source": [
    "ValueYUji"
   ]
  },
  {
   "cell_type": "code",
   "execution_count": 43,
   "metadata": {},
   "outputs": [],
   "source": [
    "def Pengujian(dataLatih,ValueVij, ValueV0, ValueW0, ValueWjk, ValueZin, ValueZ):\n",
    "    Bantu = []\n",
    "    ValueZin = []\n",
    "    ValueYin = []\n",
    "    ValueZ = []\n",
    "    ValueY = []\n",
    "    \n",
    "    #Perhitungan Input Pada Hidden Neuron\n",
    "    #Zin = Vij * x + V0j\n",
    "    for key, value in dataLatih.iterrows():\n",
    "        for baris in range(0, hidden_layer):\n",
    "            for kolom in range(0, input_unit):\n",
    "                NilaiZin = sum(ValueVij[baris][kolom] * value)\n",
    "            bantu = NilaiZin + ValueV0[baris]\n",
    "            Bantu.append(bantu)\n",
    "            z = [fungsi_aktivasi(i) for i in Bantu]\n",
    "        ValueZin.append(Bantu)\n",
    "        Bantu = []\n",
    "        ValueZ.append(z)\n",
    "    \n",
    "    NilaiBantu = 0\n",
    "    for key, value in dataLatih.iterrows():\n",
    "        for baris in range (len(ValueWjk)):\n",
    "            for kolom in range (len(ValueWjk[0])):\n",
    "                NilaiYin = ValueZ[baris][kolom] * ValueWjk[baris][kolom]\n",
    "                NilaiBantu += NilaiYin\n",
    "            NilaiYin = NilaiBantu + ValueW0[baris]\n",
    "            Bantu.append(NilaiYin)\n",
    "            y = [fungsi_aktivasi(i) for i in Bantu]\n",
    "        ValueYin.append(Bantu)\n",
    "        Bantu = []\n",
    "        ValueY.append(y)\n",
    "    print(ValueY)\n",
    "    \n",
    "    "
   ]
  },
  {
   "cell_type": "code",
   "execution_count": 44,
   "metadata": {},
   "outputs": [
    {
     "name": "stdout",
     "output_type": "stream",
     "text": [
      "[[0.35172340182242745, 0.3512790978892014, 0.3006974127796457], [0.35158516212948904, 0.35114093823607956, 0.30056992970115415], [0.3514469473143059, 0.3510028035207213, 0.30044247744963426], [0.351308757395563, 0.3508646937617604, 0.3003150560373255], [0.3511705923919289, 0.3507266089778145, 0.3001876654764501], [0.35103245232205665, 0.35058854918748544, 0.30006030577921305], [0.35089433720458324, 0.35045051440935915, 0.29993297695780197], [0.35075624705812997, 0.3503125046620056, 0.29980567902438743], [0.35061818190130195, 0.3501745199639787, 0.29967841199112266], [0.3504801417526885, 0.35003656033381664, 0.29955117587014346], [0.35034212663086295, 0.34989862579004155, 0.29942397067356863], [0.3502041365543828, 0.34976071635115963, 0.29929679641349954], [0.35006617154178976, 0.34962283203566114, 0.2991696531020204], [0.3499282316116091, 0.3494849728620202, 0.29904254075119824], [0.3497903167823505, 0.3493471388486951, 0.29891545937308256], [0.34965242707250765, 0.3492093300141283, 0.2987884089797059], [0.34951456250055835, 0.3490715463767459, 0.29866138958308325], [0.3493767230849641, 0.34893378795495833, 0.2985344011952127], [0.3492389088441707, 0.34879605476715975, 0.2984074438280747], [0.34910111979660785, 0.34865834683172847, 0.2982805174936328]]\n"
     ]
    }
   ],
   "source": [
    "y = Pengujian(dfNormalisasi, NilaiVij, NilaiV0, NilaiW0, NilaiWjk, ValueZin, ValueZ)"
   ]
  },
  {
   "cell_type": "code",
   "execution_count": 45,
   "metadata": {},
   "outputs": [],
   "source": [
    "def one_hot_encoding(y):\n",
    "    if(y.index(max(y)) == 0):\n",
    "        target = 1\n",
    "    elif(y.index(max(y)) == 1):\n",
    "        target = 2\n",
    "    elif(y.index(max(y)) == 2):\n",
    "        target = 3\n",
    "\n",
    "    return target"
   ]
  },
  {
   "cell_type": "code",
   "execution_count": 47,
   "metadata": {},
   "outputs": [
    {
     "data": {
      "text/plain": [
       "[2, 2, 2, 2, 2, 2, 2, 2, 2, 2, 2, 2, 2, 2, 2, 2, 2, 2, 2, 2]"
      ]
     },
     "execution_count": 47,
     "metadata": {},
     "output_type": "execute_result"
    }
   ],
   "source": [
    "y_class = []\n",
    "for x in ValueY:\n",
    "    y = one_hot_encoding(x)\n",
    "    y_class.append(y)\n",
    "    \n",
    "y_class"
   ]
  },
  {
   "cell_type": "code",
   "execution_count": 48,
   "metadata": {},
   "outputs": [
    {
     "data": {
      "text/plain": [
       "35.0"
      ]
     },
     "execution_count": 48,
     "metadata": {},
     "output_type": "execute_result"
    }
   ],
   "source": [
    "accu = 0\n",
    "for i in range(0, len(y_class)):\n",
    "    if(y_class[i] == ValueTarget[i]):\n",
    "        accu += 1\n",
    "\n",
    "acc = accu/len(y_class) * 100\n",
    "\n",
    "acc"
   ]
  },
  {
   "cell_type": "code",
   "execution_count": null,
   "metadata": {},
   "outputs": [],
   "source": []
  }
 ],
 "metadata": {
  "kernelspec": {
   "display_name": "Python 3",
   "language": "python",
   "name": "python3"
  },
  "language_info": {
   "codemirror_mode": {
    "name": "ipython",
    "version": 3
   },
   "file_extension": ".py",
   "mimetype": "text/x-python",
   "name": "python",
   "nbconvert_exporter": "python",
   "pygments_lexer": "ipython3",
   "version": "3.7.3"
  }
 },
 "nbformat": 4,
 "nbformat_minor": 2
}
